{
 "cells": [
  {
   "cell_type": "code",
   "execution_count": 1,
   "id": "137f9d9e-83d0-48f0-9582-db6fe9797697",
   "metadata": {},
   "outputs": [
    {
     "name": "stdout",
     "output_type": "stream",
     "text": [
      "[]\n"
     ]
    }
   ],
   "source": [
    "a = []\n",
    "print(a)"
   ]
  },
  {
   "cell_type": "code",
   "execution_count": 5,
   "id": "2c7ac7ab-c158-4ecd-ae77-ee5c051c5bb8",
   "metadata": {},
   "outputs": [
    {
     "name": "stdout",
     "output_type": "stream",
     "text": [
      "[1, 2, 3, 6, 7]\n"
     ]
    }
   ],
   "source": [
    "a = [1, 2, 3, 6, 7]\n",
    "print(a)"
   ]
  },
  {
   "cell_type": "code",
   "execution_count": 11,
   "id": "c781b4f2-c70b-4687-929b-064d8cdd8a17",
   "metadata": {},
   "outputs": [
    {
     "name": "stdout",
     "output_type": "stream",
     "text": [
      "['korea', 'kang', 1, 3, 5, [2, 5]] <class 'list'>\n"
     ]
    }
   ],
   "source": [
    "a = ['korea', 'kang', 1, 3, 5, [2, 5]]\n",
    "print(a, type(a))"
   ]
  },
  {
   "cell_type": "code",
   "execution_count": 9,
   "id": "fc95ecb5-6eea-4856-9fde-2b5e50495de3",
   "metadata": {},
   "outputs": [
    {
     "name": "stdout",
     "output_type": "stream",
     "text": [
      "3.5 3 <class 'float'> <class 'int'>\n"
     ]
    }
   ],
   "source": [
    "x = 3.5\n",
    "y = int(x)\n",
    "print(x, y, type(x), type(y))"
   ]
  },
  {
   "cell_type": "code",
   "execution_count": 13,
   "id": "3b6aa38e-9241-47ea-bb5a-bf44cda38ba9",
   "metadata": {},
   "outputs": [
    {
     "name": "stdout",
     "output_type": "stream",
     "text": [
      "['h', 'e', 'l', 'l', 'o', ' ', 'w', 'o', 'r', 'l', 'd'] <class 'list'>\n"
     ]
    }
   ],
   "source": [
    "a = 'hello world'\n",
    "b = list(a)\n",
    "print(b, type(b))"
   ]
  },
  {
   "cell_type": "code",
   "execution_count": 15,
   "id": "110c2ef1-0e77-425a-a1cb-206d89d083de",
   "metadata": {},
   "outputs": [
    {
     "name": "stdout",
     "output_type": "stream",
     "text": [
      "(1, 2, 3) <class 'tuple'>\n",
      "[1, 2, 3] <class 'list'>\n"
     ]
    }
   ],
   "source": [
    "c = (1, 2, 3)\n",
    "d = list(c)\n",
    "print(c, type(c))\n",
    "print(d, type(d))"
   ]
  },
  {
   "cell_type": "code",
   "execution_count": 19,
   "id": "50c6c986-d2c1-44c3-9d0a-e588bd122250",
   "metadata": {},
   "outputs": [
    {
     "name": "stdout",
     "output_type": "stream",
     "text": [
      "['hello', 'world'] <class 'list'>\n"
     ]
    }
   ],
   "source": [
    "a = 'hello world'\n",
    "e = a.split()\n",
    "print(e, type(e))"
   ]
  },
  {
   "cell_type": "code",
   "execution_count": 27,
   "id": "004a09bf-cb0d-4793-981b-04dd4502c198",
   "metadata": {},
   "outputs": [
    {
     "name": "stdout",
     "output_type": "stream",
     "text": [
      "1 4 5 4 1\n"
     ]
    }
   ],
   "source": [
    "a = [1, 2, 3, 4, 5]\n",
    "print(a[0], a[3], a[-1], a[-2], a[-5])"
   ]
  },
  {
   "cell_type": "code",
   "execution_count": 29,
   "id": "a4c93ef7-6351-49b0-95dc-ececb0988f82",
   "metadata": {},
   "outputs": [
    {
     "name": "stdout",
     "output_type": "stream",
     "text": [
      "[100, 2, 3, 4, 5]\n"
     ]
    }
   ],
   "source": [
    "a[0] = 100\n",
    "print(a)"
   ]
  },
  {
   "cell_type": "code",
   "execution_count": 31,
   "id": "650d60fb-0345-43b4-81d1-ce9160000219",
   "metadata": {},
   "outputs": [
    {
     "name": "stdout",
     "output_type": "stream",
     "text": [
      "h e d <class 'str'>\n"
     ]
    }
   ],
   "source": [
    "b = 'hello world'\n",
    "print(b[0], b[1], b[-1], type(b))"
   ]
  },
  {
   "cell_type": "code",
   "execution_count": 39,
   "id": "b5bd3eb7-2219-4195-b799-185911de90d3",
   "metadata": {},
   "outputs": [
    {
     "data": {
      "text/plain": [
       "'jello world'"
      ]
     },
     "execution_count": 39,
     "metadata": {},
     "output_type": "execute_result"
    }
   ],
   "source": [
    "b.replace('h', 'j') # b[0] = 'j' -> 오류 string 객체는 문자를 직접 바꿀 수 없다."
   ]
  },
  {
   "cell_type": "markdown",
   "id": "374cd598-133d-460f-bc25-d145c514e613",
   "metadata": {},
   "source": [
    "## **list : slicing**\n",
    "```python\n",
    "a [1:9:2:]의 의미\n",
    "for(int i = 1; i < 9; i+=2)\n",
    "```"
   ]
  },
  {
   "cell_type": "code",
   "execution_count": 41,
   "id": "d245d9b1-ccd1-4b34-a144-4aca51eb46e8",
   "metadata": {},
   "outputs": [
    {
     "name": "stdout",
     "output_type": "stream",
     "text": [
      "[2, 3]\n",
      "[2, 4, 6, 8]\n"
     ]
    }
   ],
   "source": [
    "a = [1, 2, 3, 4, 5, 6, 7, 8, 9, 10]\n",
    "print(a[1:3])\n",
    "print(a[1:9:2])"
   ]
  },
  {
   "cell_type": "code",
   "execution_count": 46,
   "id": "8b8578b0-0f50-48cc-8ff4-18923fc752a6",
   "metadata": {},
   "outputs": [
    {
     "name": "stdout",
     "output_type": "stream",
     "text": [
      "[1, 4, 7, 10] <class 'list'>\n"
     ]
    }
   ],
   "source": [
    "b = a[0:10:3] # for(int i = 0; i < 10; i+=3)\n",
    "print(b, type(b))"
   ]
  },
  {
   "cell_type": "markdown",
   "id": "6bf60497-36a0-432d-b16c-f7328b715eb9",
   "metadata": {},
   "source": [
    "## **append() : c/c++ vector::pushback()에 해당**"
   ]
  },
  {
   "cell_type": "code",
   "execution_count": 57,
   "id": "bb2566b6-83c3-438c-8258-c1601d8b817e",
   "metadata": {},
   "outputs": [
    {
     "name": "stdout",
     "output_type": "stream",
     "text": [
      "[1, 2, 3, 4, 5, [6, 7, 8, 9, 10]]\n"
     ]
    }
   ],
   "source": [
    "a = [1, 2, 3, 4, 5]\n",
    "b = [6, 7, 8, 9, 10]\n",
    "a.append(b)\n",
    "print(a)"
   ]
  },
  {
   "cell_type": "code",
   "execution_count": 59,
   "id": "57243b49-c521-4000-84dc-f75835e86039",
   "metadata": {},
   "outputs": [
    {
     "name": "stdout",
     "output_type": "stream",
     "text": [
      "1 2 [6, 7, 8, 9, 10]\n"
     ]
    }
   ],
   "source": [
    "print(a[0], a[1], a[-1])"
   ]
  },
  {
   "cell_type": "code",
   "execution_count": 65,
   "id": "07258a43-133d-485e-851f-d1734f214fa7",
   "metadata": {},
   "outputs": [
    {
     "name": "stdout",
     "output_type": "stream",
     "text": [
      "[1, 2, 3, 4, 5, 6, 7, 8, 9, 10]\n"
     ]
    }
   ],
   "source": [
    "a = [1, 2, 3, 4, 5]\n",
    "b = [6, 7, 8, 9, 10]\n",
    "a.extend(b)\n",
    "print(a)"
   ]
  },
  {
   "cell_type": "code",
   "execution_count": 67,
   "id": "e346ef5b-202a-4c31-992d-2ac6eca50b7e",
   "metadata": {},
   "outputs": [
    {
     "name": "stdout",
     "output_type": "stream",
     "text": [
      "[1, 2, 3, 4, 5, 6, 7, 8, 9, 10]\n"
     ]
    }
   ],
   "source": [
    "a = [1, 2, 3, 4, 5]\n",
    "b = [6, 7, 8, 9, 10]\n",
    "a = a + b # a += b 같은 표현\n",
    "print(a)"
   ]
  },
  {
   "cell_type": "code",
   "execution_count": 69,
   "id": "05bc871a-6925-4867-8d12-6e66f0bef796",
   "metadata": {},
   "outputs": [
    {
     "name": "stdout",
     "output_type": "stream",
     "text": [
      "[1, 10, 2, 3, 4, 5]\n"
     ]
    }
   ],
   "source": [
    "a = [1, 2, 3, 4, 5]\n",
    "a.insert(1, 10)\n",
    "print(a)"
   ]
  },
  {
   "cell_type": "code",
   "execution_count": 73,
   "id": "a7ef9095-5e55-4269-9d7e-524d0e1d856e",
   "metadata": {},
   "outputs": [
    {
     "name": "stdout",
     "output_type": "stream",
     "text": [
      "[1, 2, 3, 5]\n"
     ]
    }
   ],
   "source": [
    "a = [1, 2, 3, 4, 5]\n",
    "a.remove(4)\n",
    "print(a)"
   ]
  },
  {
   "cell_type": "code",
   "execution_count": 75,
   "id": "fd8ce16f-b603-4b89-ac27-52624798f044",
   "metadata": {},
   "outputs": [
    {
     "name": "stdout",
     "output_type": "stream",
     "text": [
      "[1, 3, 4, 5]\n"
     ]
    }
   ],
   "source": [
    "a = [1, 4, 3, 4, 5]\n",
    "a.remove(4)\n",
    "print(a)"
   ]
  },
  {
   "cell_type": "code",
   "execution_count": 77,
   "id": "479cf516-216e-40bf-b3a4-af07451d985e",
   "metadata": {},
   "outputs": [
    {
     "name": "stdout",
     "output_type": "stream",
     "text": [
      "[1, 4, 3, 4]\n"
     ]
    }
   ],
   "source": [
    "a = [1, 4, 3, 4, 5]\n",
    "a.pop()\n",
    "print(a)"
   ]
  },
  {
   "cell_type": "code",
   "execution_count": 101,
   "id": "0f4ca8bd-0734-467b-addb-23c7c020b02a",
   "metadata": {},
   "outputs": [
    {
     "data": {
      "text/plain": [
       "2"
      ]
     },
     "execution_count": 101,
     "metadata": {},
     "output_type": "execute_result"
    }
   ],
   "source": [
    "a = [1, 4, 3, 4, 5]\n",
    "a.index(3) # a[2] = 3"
   ]
  },
  {
   "cell_type": "code",
   "execution_count": 91,
   "id": "26fd7d28-bc08-4a3f-88fe-b93439e3bdde",
   "metadata": {},
   "outputs": [
    {
     "name": "stdout",
     "output_type": "stream",
     "text": [
      "[-1, 0, 2, 3, 6, 8, 9]\n"
     ]
    }
   ],
   "source": [
    "a = [0, 2, 8, 3, 6, 9, -1]\n",
    "a.sort()\n",
    "print(a)"
   ]
  },
  {
   "cell_type": "code",
   "execution_count": 105,
   "id": "e28b2243-70c0-4380-85d5-213263b23008",
   "metadata": {},
   "outputs": [
    {
     "name": "stdout",
     "output_type": "stream",
     "text": [
      "[9, 8, 6, 3, 2, 0, -1]\n"
     ]
    }
   ],
   "source": [
    "b = [0, 2, 8, 3, 6, 9, -1]\n",
    "b.sort(reverse=True)\n",
    "print(b)"
   ]
  },
  {
   "cell_type": "code",
   "execution_count": 109,
   "id": "a0b184f6-816a-40c1-be23-65829fb3b4a7",
   "metadata": {},
   "outputs": [
    {
     "name": "stdout",
     "output_type": "stream",
     "text": [
      "[9, 8, 6, 3, 2, 0, -1]\n",
      "[9, 8, 6, 3, 2, 0, -1]\n"
     ]
    }
   ],
   "source": [
    "a = [0, 2, 8, 3, 6, 9, -1]\n",
    "# b = a.copy() # deep copy\n",
    "b = a # 값을 복사해서 저장하는 것이다.\n",
    "a.sort() # 따라서 이떄 b는 변하지 않는다.\n",
    "b.sort(reverse=True)\n",
    "print(a)\n",
    "print(b)"
   ]
  },
  {
   "cell_type": "markdown",
   "id": "5e8632d2-3365-424a-a7e7-6f38285ed317",
   "metadata": {},
   "source": [
    "## Tuple"
   ]
  },
  {
   "cell_type": "code",
   "execution_count": 112,
   "id": "665a7088-8001-4b89-8982-89fcacb6a333",
   "metadata": {},
   "outputs": [
    {
     "name": "stdout",
     "output_type": "stream",
     "text": [
      "(1, 2, 3) <class 'tuple'>\n"
     ]
    }
   ],
   "source": [
    "b = 1, 2, 3\n",
    "print(b, type(b))"
   ]
  },
  {
   "cell_type": "code",
   "execution_count": 114,
   "id": "025e0821-b523-46c0-bf90-69c9a3803c32",
   "metadata": {},
   "outputs": [
    {
     "name": "stdout",
     "output_type": "stream",
     "text": [
      "1 3\n"
     ]
    }
   ],
   "source": [
    "print(b[0], b[-1])"
   ]
  },
  {
   "cell_type": "code",
   "execution_count": 120,
   "id": "f1c865a6-544f-4240-9901-a634cfd9080d",
   "metadata": {},
   "outputs": [
    {
     "name": "stdout",
     "output_type": "stream",
     "text": [
      "[100, 2, 3] <class 'list'>\n"
     ]
    }
   ],
   "source": [
    "b = list(b) # 튜플에서 리스트로 바꿔줌\n",
    "b[0] = 100\n",
    "print(b, type(b))"
   ]
  },
  {
   "cell_type": "code",
   "execution_count": 124,
   "id": "149d57c9-ddc2-42c3-8689-7eeec2562de0",
   "metadata": {},
   "outputs": [
    {
     "name": "stdout",
     "output_type": "stream",
     "text": [
      "(100, 2, 3) <class 'tuple'>\n"
     ]
    }
   ],
   "source": [
    "c = tuple(b)\n",
    "print(c, type(c))"
   ]
  },
  {
   "cell_type": "code",
   "execution_count": 126,
   "id": "386ba663-b17b-466f-b801-73af636de9ab",
   "metadata": {},
   "outputs": [
    {
     "name": "stdout",
     "output_type": "stream",
     "text": [
      "100 200 300\n"
     ]
    }
   ],
   "source": [
    "a, b, c = 100, 200, 300\n",
    "print(a, b, c)"
   ]
  },
  {
   "cell_type": "code",
   "execution_count": 128,
   "id": "80629107-f580-4c07-9fc3-eb56ba609a7d",
   "metadata": {},
   "outputs": [
    {
     "name": "stdout",
     "output_type": "stream",
     "text": [
      "200 100\n"
     ]
    }
   ],
   "source": [
    "a, b = 100, 200\n",
    "a, b = b, a\n",
    "print(a, b)"
   ]
  },
  {
   "cell_type": "code",
   "execution_count": null,
   "id": "9b890ac7-64d1-472d-8a0d-210e5f9ffecc",
   "metadata": {},
   "outputs": [],
   "source": []
  }
 ],
 "metadata": {
  "kernelspec": {
   "display_name": "Python 3 (ipykernel)",
   "language": "python",
   "name": "python3"
  },
  "language_info": {
   "codemirror_mode": {
    "name": "ipython",
    "version": 3
   },
   "file_extension": ".py",
   "mimetype": "text/x-python",
   "name": "python",
   "nbconvert_exporter": "python",
   "pygments_lexer": "ipython3",
   "version": "3.12.7"
  }
 },
 "nbformat": 4,
 "nbformat_minor": 5
}
