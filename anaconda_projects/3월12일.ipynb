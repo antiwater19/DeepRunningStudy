{
 "cells": [
  {
   "cell_type": "code",
   "execution_count": 9,
   "id": "7aa6b7b6-da79-4f7a-a45f-118c590636ef",
   "metadata": {},
   "outputs": [],
   "source": [
    "# 이것은 주석입니다.\n",
    "a = 10 # 정수형 변수 생성\n",
    "b = 11.4 # 실수형 변수 생성"
   ]
  },
  {
   "cell_type": "code",
   "execution_count": 13,
   "id": "2e091927-1fa2-4742-bf15-f28fe57920e8",
   "metadata": {},
   "outputs": [
    {
     "name": "stdout",
     "output_type": "stream",
     "text": [
      "<class 'int'> <class 'float'>\n"
     ]
    }
   ],
   "source": [
    "print(type(a), type(b)) # 파이썬은 대부분 클래스 이다."
   ]
  },
  {
   "cell_type": "code",
   "execution_count": 33,
   "id": "41832a7a-80bd-4a08-bd3a-6e8fbfe3953b",
   "metadata": {},
   "outputs": [
    {
     "name": "stdout",
     "output_type": "stream",
     "text": [
      "10 11.4\n",
      "10 100 200 11.4\n",
      "10, 100, 200, 11.4----------"
     ]
    },
    {
     "data": {
      "text/plain": [
       "(10, 11.4)"
      ]
     },
     "execution_count": 33,
     "metadata": {},
     "output_type": "execute_result"
    }
   ],
   "source": [
    "print(a, b)\n",
    "a, b # 주피터 노트북 특성이다. 제일 마지막에 변수를 입력했을떄만 출력해준다.\n",
    "print(a, 100, 200, b)\n",
    "print(a, 100, 200, b, sep=', ', end='----------') # 인용 부호는 쌍따음표도 인식한다. '' \"\"\n",
    "# shift + tap 은 함수 설명 기기\n",
    "a, b"
   ]
  },
  {
   "cell_type": "code",
   "execution_count": 27,
   "id": "63959fdb-240f-4afd-b53d-418c95082719",
   "metadata": {},
   "outputs": [
    {
     "data": {
      "text/plain": [
       "(10, 11.4)"
      ]
     },
     "execution_count": 27,
     "metadata": {},
     "output_type": "execute_result"
    }
   ],
   "source": [
    "a, b"
   ]
  },
  {
   "cell_type": "code",
   "execution_count": 37,
   "id": "849454d6-a4f0-4150-98e2-0b54373d5341",
   "metadata": {},
   "outputs": [
    {
     "data": {
      "text/plain": [
       "10"
      ]
     },
     "execution_count": 37,
     "metadata": {},
     "output_type": "execute_result"
    }
   ],
   "source": [
    "a"
   ]
  },
  {
   "cell_type": "code",
   "execution_count": 39,
   "id": "fe51fa68-d2d3-4e72-aa55-a2f5bc5f9892",
   "metadata": {},
   "outputs": [
    {
     "data": {
      "text/plain": [
       "11.4"
      ]
     },
     "execution_count": 39,
     "metadata": {},
     "output_type": "execute_result"
    }
   ],
   "source": [
    "a\n",
    "b"
   ]
  },
  {
   "cell_type": "code",
   "execution_count": 41,
   "id": "11c88e24-3664-4ba0-9269-d192479279d0",
   "metadata": {},
   "outputs": [],
   "source": [
    "a = 10\n",
    "b = 11.4\n",
    "c = None"
   ]
  },
  {
   "cell_type": "code",
   "execution_count": 43,
   "id": "321880a2-7d05-430f-bbe3-bf1881f15d8e",
   "metadata": {},
   "outputs": [
    {
     "data": {
      "text/plain": [
       "(int, float, NoneType)"
      ]
     },
     "execution_count": 43,
     "metadata": {},
     "output_type": "execute_result"
    }
   ],
   "source": [
    "type(a), type(b), type(c)"
   ]
  },
  {
   "cell_type": "markdown",
   "id": "e80543eb-5d4d-4348-b7f8-fc8330eed97c",
   "metadata": {},
   "source": [
    "### **None type data**\n",
    "```python\n",
    "int c;\n",
    "if(true){\n",
    "    c = 100;\n",
    "}\n",
    "printf(\"%d \\n\", c);\n",
    "\n",
    "```\n"
   ]
  },
  {
   "cell_type": "code",
   "execution_count": 59,
   "id": "91f0b7e6-4724-41dd-a104-793ac9bca8aa",
   "metadata": {},
   "outputs": [
    {
     "name": "stdout",
     "output_type": "stream",
     "text": [
      "100\n"
     ]
    }
   ],
   "source": [
    "c = None\n",
    "if True:\n",
    "    c = 100\n",
    "print(c) # 안되는게 정상인데 됨 나중에 추가 설명 c가 안보이는게 정상"
   ]
  },
  {
   "cell_type": "code",
   "execution_count": 61,
   "id": "cb22446a-d83c-43ea-ab49-75156b69756f",
   "metadata": {},
   "outputs": [
    {
     "data": {
      "text/plain": [
       "False"
      ]
     },
     "execution_count": 61,
     "metadata": {},
     "output_type": "execute_result"
    }
   ],
   "source": [
    "a > b"
   ]
  },
  {
   "cell_type": "code",
   "execution_count": 63,
   "id": "b885cc1d-b846-48b9-8b01-6e68d8cf720a",
   "metadata": {},
   "outputs": [],
   "source": [
    "c = a > b"
   ]
  },
  {
   "cell_type": "code",
   "execution_count": 65,
   "id": "898ebc76-943c-4021-a3d2-a8c9c2bbbf9b",
   "metadata": {},
   "outputs": [
    {
     "data": {
      "text/plain": [
       "(False, bool)"
      ]
     },
     "execution_count": 65,
     "metadata": {},
     "output_type": "execute_result"
    }
   ],
   "source": [
    "c, type(c)"
   ]
  },
  {
   "cell_type": "markdown",
   "id": "0bc9287e-b21c-41bc-8d8f-e9686d5cfe3e",
   "metadata": {},
   "source": [
    "### $ a^b $ 계산"
   ]
  },
  {
   "cell_type": "code",
   "execution_count": 86,
   "id": "ef67a82f-be49-4569-9650-f7b34f154edf",
   "metadata": {},
   "outputs": [
    {
     "data": {
      "text/plain": [
       "8"
      ]
     },
     "execution_count": 86,
     "metadata": {},
     "output_type": "execute_result"
    }
   ],
   "source": [
    "a, b, c = 2, 3, None\n",
    "a**b"
   ]
  },
  {
   "cell_type": "markdown",
   "id": "e5077560-7c2e-4380-9d49-38a8c049b685",
   "metadata": {},
   "source": [
    "### **string**"
   ]
  },
  {
   "cell_type": "code",
   "execution_count": 93,
   "id": "22f7d480-e4fa-4257-8078-efaa7b0b38b4",
   "metadata": {},
   "outputs": [
    {
     "name": "stdout",
     "output_type": "stream",
     "text": [
      "'Hello' world!!!, \"Hello\"  Python world!!!, <class 'str'>, <class 'str'>\n"
     ]
    }
   ],
   "source": [
    "c = \"'Hello' world!!!\"\n",
    "d = '\"Hello\"  Python world!!!'\n",
    "print(c, d, type(c), type(d), sep = ', ')"
   ]
  },
  {
   "cell_type": "code",
   "execution_count": 109,
   "id": "fa3217c4-47af-4ca1-880e-fd0a447fdd44",
   "metadata": {},
   "outputs": [
    {
     "name": "stdout",
     "output_type": "stream",
     "text": [
      "'Hello'\n",
      "world!!!\n",
      "\n",
      "\n",
      ", \"Hello\"\n",
      "Python world!!!\n",
      ", <class 'str'>, <class 'str'>\n"
     ]
    }
   ],
   "source": [
    "c = \"\"\"'Hello'\n",
    "world!!!\n",
    "\n",
    "\n",
    "\"\"\"\n",
    "d = '''\"Hello\"\n",
    "Python world!!!\n",
    "'''\n",
    "print(c, d, type(c), type(d), sep = ', ')"
   ]
  },
  {
   "cell_type": "code",
   "execution_count": 117,
   "id": "9714e983-43bd-433f-a4cd-c41b9ea3d4f4",
   "metadata": {},
   "outputs": [
    {
     "name": "stdout",
     "output_type": "stream",
     "text": [
      "hello world\n",
      "h\n",
      "e\n",
      "d\n",
      "d\n",
      "l\n",
      "h\n"
     ]
    }
   ],
   "source": [
    "a = 'hello world'\n",
    "print(a)\n",
    "print(a[0])\n",
    "print(a[1])\n",
    "print(a[10])\n",
    "print(a[-1])\n",
    "print(a[-2])\n",
    "print(a[-11]) # print(a[-12])라고 치면 오류난다. Out of range \n",
    "# 양수는 0 ~ 10 음수는 -1 ~ -11"
   ]
  },
  {
   "cell_type": "markdown",
   "id": "72ded61e-7602-4000-b4cc-34db0728d9f7",
   "metadata": {},
   "source": [
    "### **Slicing**"
   ]
  },
  {
   "cell_type": "code",
   "execution_count": 137,
   "id": "6415b6be-2d8a-49f7-a174-757d648b958e",
   "metadata": {},
   "outputs": [
    {
     "name": "stdout",
     "output_type": "stream",
     "text": [
      "h\n",
      "hell\n",
      "ello w\n"
     ]
    }
   ],
   "source": [
    "a = 'hello world'\n",
    "print(a[0:1]) # last index가 포함되지 않는다.\n",
    "print(a[0:4])\n",
    "print(a[1:7]) # for(int i = 1; 1 < 7; i++)"
   ]
  },
  {
   "cell_type": "code",
   "execution_count": 129,
   "id": "800b25b6-013f-48ae-a55e-c8444adafe8c",
   "metadata": {},
   "outputs": [
    {
     "name": "stdout",
     "output_type": "stream",
     "text": [
      "hell\n",
      "lo world\n"
     ]
    }
   ],
   "source": [
    "print(a[:4]) # 처음부터 [4]까지\n",
    "print(a[3:]) # [3]부터 마지막까지"
   ]
  },
  {
   "cell_type": "code",
   "execution_count": 131,
   "id": "06dfc312-d594-4f6d-a14d-7373e93776d2",
   "metadata": {},
   "outputs": [
    {
     "name": "stdout",
     "output_type": "stream",
     "text": [
      "hello world\n"
     ]
    }
   ],
   "source": [
    "print(a[:]) # 처음부터 끝까지"
   ]
  },
  {
   "cell_type": "markdown",
   "id": "95b997f3-0906-4ca7-a7e8-ac9b4190840a",
   "metadata": {},
   "source": [
    "### **string member function**"
   ]
  },
  {
   "cell_type": "code",
   "execution_count": 168,
   "id": "06f7b429-31de-4b55-835b-207f33e9792f",
   "metadata": {},
   "outputs": [],
   "source": [
    "a = 'heLLo world'\n",
    "b = a.upper() # a. + tab 누르면 쓸 수 있는 함수들이 나온다."
   ]
  },
  {
   "cell_type": "code",
   "execution_count": 170,
   "id": "6ea8bf85-35f9-43da-898f-0d806201cac7",
   "metadata": {},
   "outputs": [
    {
     "name": "stdout",
     "output_type": "stream",
     "text": [
      "heLLo world\n",
      "HELLO WORLD\n"
     ]
    }
   ],
   "source": [
    "print(a)\n",
    "print(b)"
   ]
  },
  {
   "cell_type": "code",
   "execution_count": 172,
   "id": "00880eaf-6d19-405c-87e2-2b81dc7a8d07",
   "metadata": {},
   "outputs": [
    {
     "data": {
      "text/plain": [
       "'hhheLLo world'"
      ]
     },
     "execution_count": 172,
     "metadata": {},
     "output_type": "execute_result"
    }
   ],
   "source": [
    "a.replace('h', 'hhh') # h -> hhh 로 바뀐것"
   ]
  },
  {
   "cell_type": "code",
   "execution_count": 174,
   "id": "d7d0e0cf-fb4c-495f-bec1-2b232f2f9339",
   "metadata": {},
   "outputs": [
    {
     "data": {
      "text/plain": [
       "'HELLO WORLD'"
      ]
     },
     "execution_count": 174,
     "metadata": {},
     "output_type": "execute_result"
    }
   ],
   "source": [
    "b.replace('h', 'hhh')"
   ]
  },
  {
   "cell_type": "code",
   "execution_count": 176,
   "id": "0569fbc2-eb60-44f6-9bad-d8965f0c8d46",
   "metadata": {},
   "outputs": [
    {
     "data": {
      "text/plain": [
       "'hhhELLO WORLD'"
      ]
     },
     "execution_count": 176,
     "metadata": {},
     "output_type": "execute_result"
    }
   ],
   "source": [
    "b.replace('H', 'hhh')"
   ]
  },
  {
   "cell_type": "code",
   "execution_count": 178,
   "id": "9a04f207-b2ee-4be6-802e-6cecc861e603",
   "metadata": {},
   "outputs": [],
   "source": [
    "c = a.lower()"
   ]
  },
  {
   "cell_type": "code",
   "execution_count": 180,
   "id": "0d6544d2-5625-4dca-962f-70c9a7a70cb5",
   "metadata": {},
   "outputs": [
    {
     "name": "stdout",
     "output_type": "stream",
     "text": [
      "heLLo world hello world\n"
     ]
    }
   ],
   "source": [
    "print(a, c)"
   ]
  },
  {
   "cell_type": "code",
   "execution_count": 194,
   "id": "80b4378a-77f2-416a-b39f-af7e9f3db968",
   "metadata": {},
   "outputs": [],
   "source": [
    "d = a.replace(\"LL\", \"llxxx\")"
   ]
  },
  {
   "cell_type": "code",
   "execution_count": 196,
   "id": "7dbb3b61-1fdd-4d71-a1a3-c5f99a074c64",
   "metadata": {},
   "outputs": [
    {
     "name": "stdout",
     "output_type": "stream",
     "text": [
      "heLLo world hellxxxo world\n"
     ]
    }
   ],
   "source": [
    "print(a, d)"
   ]
  },
  {
   "cell_type": "code",
   "execution_count": 198,
   "id": "95198d8e-7274-40e4-bf97-d14d38101f65",
   "metadata": {},
   "outputs": [],
   "source": [
    "temp = 25\n",
    "prob = 70\n",
    "b = '오늘 기온은 {}도이고, 비올 확률은 {}% 이다.'.format(temp, prob)"
   ]
  },
  {
   "cell_type": "code",
   "execution_count": 200,
   "id": "13160899-0aad-408d-9d01-63fd8ce5e95f",
   "metadata": {},
   "outputs": [
    {
     "name": "stdout",
     "output_type": "stream",
     "text": [
      "오늘 기온은 25도이고, 비올 확률은 70% 이다.\n"
     ]
    }
   ],
   "source": [
    "print(b)"
   ]
  },
  {
   "cell_type": "code",
   "execution_count": 202,
   "id": "d7c0a8c1-5a5b-4274-b08b-35cbf5060cdf",
   "metadata": {},
   "outputs": [
    {
     "data": {
      "text/plain": [
       "['오늘', '기온은', '25도이고,', '비올', '확률은', '70%', '이다.']"
      ]
     },
     "execution_count": 202,
     "metadata": {},
     "output_type": "execute_result"
    }
   ],
   "source": [
    "b.split()"
   ]
  },
  {
   "cell_type": "code",
   "execution_count": null,
   "id": "106243c3-dc29-49f1-a57c-7366037f039d",
   "metadata": {},
   "outputs": [],
   "source": []
  }
 ],
 "metadata": {
  "kernelspec": {
   "display_name": "Python 3 (ipykernel)",
   "language": "python",
   "name": "python3"
  },
  "language_info": {
   "codemirror_mode": {
    "name": "ipython",
    "version": 3
   },
   "file_extension": ".py",
   "mimetype": "text/x-python",
   "name": "python",
   "nbconvert_exporter": "python",
   "pygments_lexer": "ipython3",
   "version": "3.12.7"
  }
 },
 "nbformat": 4,
 "nbformat_minor": 5
}
