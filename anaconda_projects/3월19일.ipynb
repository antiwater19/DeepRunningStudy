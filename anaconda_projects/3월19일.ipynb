{
 "cells": [
  {
   "cell_type": "code",
   "execution_count": 1,
   "id": "d9978c47-0bb4-4564-849f-eb24cde52402",
   "metadata": {},
   "outputs": [
    {
     "name": "stdout",
     "output_type": "stream",
     "text": [
      "<class 'dict'>\n"
     ]
    }
   ],
   "source": [
    "a ={'korea':'seoul', 'canada':'ottawa', 'use':'washington'}\n",
    "print(type(a))"
   ]
  },
  {
   "cell_type": "code",
   "execution_count": 5,
   "id": "ab70d237-78e9-491a-a05b-652f742f3f6c",
   "metadata": {},
   "outputs": [
    {
     "name": "stdout",
     "output_type": "stream",
     "text": [
      "seoul ottawa\n"
     ]
    }
   ],
   "source": [
    "print(a['korea'], a['canada'])"
   ]
  },
  {
   "cell_type": "code",
   "execution_count": 7,
   "id": "78d38b8d-9a8e-40e0-9d3c-1307d6dd5696",
   "metadata": {},
   "outputs": [
    {
     "name": "stdout",
     "output_type": "stream",
     "text": [
      "1 20\n"
     ]
    }
   ],
   "source": [
    "b = {100:1, 99:2, 88:3, 1:20, 2:30}\n",
    "print(b[100], b[1])"
   ]
  },
  {
   "cell_type": "code",
   "execution_count": 14,
   "id": "550a4875-4a21-411c-8860-856cea79cedb",
   "metadata": {},
   "outputs": [
    {
     "name": "stdout",
     "output_type": "stream",
     "text": [
      "{'korea': 'cheongju', 'canada': 'ottawa', 'use': 'washington', 'japen': 'tokyo'}\n"
     ]
    }
   ],
   "source": [
    "a['japen'] = 'tokyo'\n",
    "a['korea'] = 'cheongju'\n",
    "print(a)"
   ]
  },
  {
   "cell_type": "code",
   "execution_count": 40,
   "id": "d4a0a4e1-689b-4029-a240-8c978d0c06e4",
   "metadata": {},
   "outputs": [
    {
     "name": "stdout",
     "output_type": "stream",
     "text": [
      "{'a': 1, 'b': 2, 'c': 3}\n",
      "{'a': 2, 'd': 4, 'e': 5, 'f': 6}\n",
      "{'a': 2, 'b': 2, 'c': 3, 'd': 4, 'e': 5, 'f': 6}\n"
     ]
    }
   ],
   "source": [
    "a = {'a' : 1, 'b':2, 'c':3}\n",
    "b = {'a':2, 'd':4, 'e':5, 'f':6}\n",
    "print(a)\n",
    "print(b)\n",
    "a.update(b)\n",
    "print(a)"
   ]
  },
  {
   "cell_type": "code",
   "execution_count": 42,
   "id": "c5c85b21-e766-41f4-8154-a693e401db35",
   "metadata": {},
   "outputs": [
    {
     "name": "stdout",
     "output_type": "stream",
     "text": [
      "{'a': 2, 'c': 3, 'd': 4, 'e': 5, 'f': 6}\n"
     ]
    }
   ],
   "source": [
    "del a['b']\n",
    "print(a)"
   ]
  },
  {
   "cell_type": "code",
   "execution_count": 44,
   "id": "63046f6d-2b78-4ec5-a0f7-c09a941dbaef",
   "metadata": {},
   "outputs": [
    {
     "name": "stdout",
     "output_type": "stream",
     "text": [
      "False\n"
     ]
    }
   ],
   "source": [
    "c = 'b' in a # b 가 없기 때문에 아무것도 안나옴\n",
    "print(c)"
   ]
  },
  {
   "cell_type": "code",
   "execution_count": 46,
   "id": "cd00f3ca-fd3b-49f0-80b6-bbade5db3926",
   "metadata": {},
   "outputs": [
    {
     "data": {
      "text/plain": [
       "(dict_keys(['a', 'c', 'd', 'e', 'f']), dict_values([2, 3, 4, 5, 6]))"
      ]
     },
     "execution_count": 46,
     "metadata": {},
     "output_type": "execute_result"
    }
   ],
   "source": [
    "a.keys(), a.values()"
   ]
  },
  {
   "cell_type": "code",
   "execution_count": 56,
   "id": "7a126d67-7572-46e5-bef7-b4210f3793e4",
   "metadata": {},
   "outputs": [
    {
     "name": "stdout",
     "output_type": "stream",
     "text": [
      "['a', 'b', 'c'] [1, 2, 3] <class 'list'> <class 'list'>\n"
     ]
    }
   ],
   "source": [
    "b = list(a.keys()) # 더 깔끔해짐\n",
    "c = list(a.values())\n",
    "print(b, c, type(b), type(c))"
   ]
  },
  {
   "cell_type": "code",
   "execution_count": 58,
   "id": "5b46288c-6e9d-409c-9d4a-5c2dbaa7f367",
   "metadata": {},
   "outputs": [
    {
     "name": "stdout",
     "output_type": "stream",
     "text": [
      "None\n",
      "{'a': 1, 'b': 2, 'c': 3}\n"
     ]
    }
   ],
   "source": [
    "a = {'a':1, 'b':2, 'c':3}\n",
    "print(a.get('d'))\n",
    "print(a)"
   ]
  },
  {
   "cell_type": "code",
   "execution_count": 36,
   "id": "f0da9832-e280-4fc5-9213-fadd6eeacd55",
   "metadata": {},
   "outputs": [
    {
     "name": "stdout",
     "output_type": "stream",
     "text": [
      "{}\n"
     ]
    }
   ],
   "source": [
    "a.clear()\n",
    "print(a)"
   ]
  },
  {
   "cell_type": "markdown",
   "id": "a6a0a109-3f31-4a0e-8a3c-98f328b365d2",
   "metadata": {},
   "source": [
    "## **IF**"
   ]
  },
  {
   "cell_type": "code",
   "execution_count": 65,
   "id": "fa9d159d-9a78-4e55-9843-7081bd74a266",
   "metadata": {},
   "outputs": [
    {
     "name": "stdout",
     "output_type": "stream",
     "text": [
      "1번조건은 참이다.\n",
      "2번조건이 거짓이다.\n"
     ]
    }
   ],
   "source": [
    "a, b, c = 10, 20, 30\n",
    "if(a == 10 and b == 20) or c == 100:\n",
    "    print('1번조건은 참이다.')\n",
    "else:\n",
    "    print('1번조건은 거짓이다.')\n",
    "\n",
    "if a!=10:\n",
    "    print('2번조건이 참이다.')\n",
    "else:\n",
    "    print('2번조건이 거짓이다.')"
   ]
  },
  {
   "cell_type": "code",
   "execution_count": 69,
   "id": "a812e607-1644-4b64-bd05-71d0325dd15b",
   "metadata": {},
   "outputs": [
    {
     "name": "stdout",
     "output_type": "stream",
     "text": [
      "3번조건이 참이다.\n"
     ]
    }
   ],
   "source": [
    "if not a == 20: # c언어로 표현시 if(!(a==20))\n",
    "    print('3번조건이 참이다.')"
   ]
  },
  {
   "cell_type": "code",
   "execution_count": 71,
   "id": "ec1b79a8-4b51-4616-95dc-31f71d958b0d",
   "metadata": {},
   "outputs": [
    {
     "name": "stdout",
     "output_type": "stream",
     "text": [
      "0는 나머지가 0이다.\n",
      "1는 나머지가 1이다.\n",
      "2는 나머지가 2이다.\n",
      "3는 나머지가 3이다.\n",
      "4는 나머지가 0이다.\n",
      "5는 나머지가 1이다.\n",
      "6는 나머지가 2이다.\n",
      "7는 나머지가 3이다.\n"
     ]
    }
   ],
   "source": [
    "data = [0, 1, 2, 3, 4, 5, 6, 7]\n",
    "for a in data: #드래그 후 tab을 누르면 전부 띄워진다.\n",
    "    if a%4 == 0:\n",
    "        print('{}는 나머지가 0이다.'.format(a))\n",
    "    elif a%4 == 1:\n",
    "        print('{}는 나머지가 1이다.'.format(a))\n",
    "    elif a%4 == 2:\n",
    "        print('{}는 나머지가 2이다.'.format(a))\n",
    "    else:\n",
    "        print('{}는 나머지가 3이다.'.format(a))"
   ]
  },
  {
   "cell_type": "markdown",
   "id": "3b31a994-ea45-4c55-bd66-63c950e05b25",
   "metadata": {},
   "source": [
    "## **while문**"
   ]
  },
  {
   "cell_type": "code",
   "execution_count": 74,
   "id": "da3b4d40-76fa-45a6-a9a8-e77846b573d9",
   "metadata": {},
   "outputs": [
    {
     "name": "stdout",
     "output_type": "stream",
     "text": [
      "value =  1 index =  0\n",
      "value =  10 index =  1\n",
      "value =  20 index =  2\n",
      "value =  100 index =  3\n",
      "end\n"
     ]
    }
   ],
   "source": [
    "a = [1, 10, 20, 100]\n",
    "i = 0\n",
    "while i<len(a):\n",
    "    print('value = ', a[i], 'index = ', i)\n",
    "    i+=1 # c언어 처럼 i++는 작동하지 않는다.\n",
    "print('end')"
   ]
  },
  {
   "cell_type": "markdown",
   "id": "dc554115-60dc-429c-9bd5-fafe106b0b4c",
   "metadata": {},
   "source": [
    "## **for 문**"
   ]
  },
  {
   "cell_type": "code",
   "execution_count": 77,
   "id": "4fa29bdb-0bbb-4e83-be29-6cef1c3f941c",
   "metadata": {},
   "outputs": [
    {
     "name": "stdout",
     "output_type": "stream",
     "text": [
      "1 2\n",
      "10 20\n",
      "20 40\n",
      "100 200\n"
     ]
    }
   ],
   "source": [
    "a = [1, 10, 20, 100]\n",
    "for x in a:\n",
    "    print(x, x*2)"
   ]
  },
  {
   "cell_type": "code",
   "execution_count": 85,
   "id": "b6db1681-ec9c-4bb6-9d17-558f3b279ecd",
   "metadata": {},
   "outputs": [
    {
     "name": "stdout",
     "output_type": "stream",
     "text": [
      "h\n",
      "e\n",
      "l\n",
      "l\n",
      "o\n",
      " \n",
      "w\n",
      "o\n",
      "r\n",
      "l\n",
      "d\n"
     ]
    }
   ],
   "source": [
    "a = 'hello world'\n",
    "for c in a:\n",
    "    print(c)"
   ]
  },
  {
   "cell_type": "code",
   "execution_count": 87,
   "id": "fd8d7883-fe44-4047-b4d8-1a938b6acacd",
   "metadata": {},
   "outputs": [
    {
     "name": "stdout",
     "output_type": "stream",
     "text": [
      "korea seoul\n",
      "canada ottawa\n",
      "japan tokyo\n"
     ]
    }
   ],
   "source": [
    "a ={'korea':'seoul', 'canada':'ottawa', 'japan':'tokyo'}\n",
    "for key in a:\n",
    "    print(key, a[key])"
   ]
  },
  {
   "cell_type": "code",
   "execution_count": 89,
   "id": "8aaab949-2ec1-4763-ac08-610e879af71a",
   "metadata": {},
   "outputs": [
    {
     "name": "stdout",
     "output_type": "stream",
     "text": [
      "seoul\n",
      "ottawa\n",
      "tokyo\n"
     ]
    }
   ],
   "source": [
    "a ={'korea':'seoul', 'canada':'ottawa', 'japan':'tokyo'}\n",
    "for x in a.values():\n",
    "    print(x)"
   ]
  },
  {
   "cell_type": "code",
   "execution_count": 93,
   "id": "3e639a8e-92f5-420a-98d2-b96ca8923e34",
   "metadata": {},
   "outputs": [
    {
     "name": "stdout",
     "output_type": "stream",
     "text": [
      "<class 'list'>\n",
      "[('korea', 'seoul'), ('canada', 'ottawa'), ('usa', 'washington')]\n"
     ]
    }
   ],
   "source": [
    "a ={'korea':'seoul', 'canada':'ottawa', 'usa':'washington'}\n",
    "b = list(a.items())\n",
    "print(type(b))\n",
    "print(b)"
   ]
  },
  {
   "cell_type": "code",
   "execution_count": 97,
   "id": "b60ffcfd-83c1-4371-aa21-038c34b332fa",
   "metadata": {},
   "outputs": [
    {
     "name": "stdout",
     "output_type": "stream",
     "text": [
      "('canada', 'ottawa') 3\n"
     ]
    }
   ],
   "source": [
    "print(b[1], len(b)) # b[0]이 korea임"
   ]
  },
  {
   "cell_type": "code",
   "execution_count": 99,
   "id": "98bae9be-12d0-4ae6-af11-9e4939c49b50",
   "metadata": {},
   "outputs": [
    {
     "name": "stdout",
     "output_type": "stream",
     "text": [
      "korea seoul\n",
      "canada ottawa\n",
      "usa washington\n"
     ]
    }
   ],
   "source": [
    "for x, y in b:\n",
    "    print(x, y)"
   ]
  },
  {
   "cell_type": "code",
   "execution_count": 103,
   "id": "56cd254c-adfa-4e6a-bb74-ed12556c48b5",
   "metadata": {},
   "outputs": [
    {
     "name": "stdout",
     "output_type": "stream",
     "text": [
      "('korea', 'seoul') <class 'tuple'>\n",
      "('canada', 'ottawa') <class 'tuple'>\n",
      "('usa', 'washington') <class 'tuple'>\n"
     ]
    }
   ],
   "source": [
    "for z in b:\n",
    "    print(z, type(z))"
   ]
  },
  {
   "cell_type": "code",
   "execution_count": 105,
   "id": "695311dd-4138-4e37-ba66-9a91b6460266",
   "metadata": {},
   "outputs": [
    {
     "name": "stdout",
     "output_type": "stream",
     "text": [
      "0 10\n",
      "1 20\n",
      "2 30\n",
      "3 40\n"
     ]
    }
   ],
   "source": [
    "a = [10, 20, 30, 40]\n",
    "for x, y in enumerate(a):\n",
    "    print(x, y)"
   ]
  },
  {
   "cell_type": "code",
   "execution_count": 109,
   "id": "56e6935b-3f58-4e81-a687-c36148865954",
   "metadata": {},
   "outputs": [
    {
     "name": "stdout",
     "output_type": "stream",
     "text": [
      "(0, 10) 0 10\n",
      "(1, 20) 1 20\n",
      "(2, 30) 2 30\n",
      "(3, 40) 3 40\n"
     ]
    }
   ],
   "source": [
    "a = [10, 20, 30, 40]\n",
    "for z in enumerate(a):\n",
    "    print(z, z[0], z[1])"
   ]
  },
  {
   "cell_type": "code",
   "execution_count": 113,
   "id": "bf724126-4c8e-4310-9de9-ad7de510531b",
   "metadata": {},
   "outputs": [
    {
     "name": "stdout",
     "output_type": "stream",
     "text": [
      "(10, 20) <class 'tuple'>\n"
     ]
    }
   ],
   "source": [
    "c = 10, 20\n",
    "print(c, type(c))"
   ]
  },
  {
   "cell_type": "code",
   "execution_count": 115,
   "id": "cfe7666a-0742-4d15-903f-2d3cd74cf66d",
   "metadata": {},
   "outputs": [
    {
     "name": "stdout",
     "output_type": "stream",
     "text": [
      "10\n",
      "20\n",
      "30\n"
     ]
    }
   ],
   "source": [
    "a = [10, 20, 30, 40, 50, 60, 70]\n",
    "for value in a:\n",
    "    if value > 30:\n",
    "        break\n",
    "    print(value)"
   ]
  },
  {
   "cell_type": "code",
   "execution_count": 125,
   "id": "4ffdd902-604d-4ee5-9497-9cb878a2aefa",
   "metadata": {},
   "outputs": [
    {
     "name": "stdout",
     "output_type": "stream",
     "text": [
      "10\n",
      "20\n",
      "30\n",
      "70\n"
     ]
    }
   ],
   "source": [
    "a = [10, 20, 30, 40, 50, 60, 70]\n",
    "for value in a:\n",
    "    if value > 30 and value < 70:\n",
    "        continue\n",
    "    print(value)"
   ]
  },
  {
   "cell_type": "code",
   "execution_count": 129,
   "id": "6b76ff2f-c0ac-445f-9c98-ba15b336bbd5",
   "metadata": {},
   "outputs": [
    {
     "name": "stdout",
     "output_type": "stream",
     "text": [
      "2 x 1 = 2\n",
      "2 x 2 = 4\n",
      "2 x 3 = 6\n",
      "2 x 4 = 8\n",
      "2 x 5 = 10\n",
      "2 x 6 = 12\n",
      "2 x 7 = 14\n",
      "2 x 8 = 16\n",
      "2 x 9 = 18\n",
      "3 x 1 = 3\n",
      "3 x 2 = 6\n",
      "3 x 3 = 9\n",
      "3 x 4 = 12\n",
      "3 x 5 = 15\n",
      "3 x 6 = 18\n",
      "3 x 7 = 21\n",
      "3 x 8 = 24\n",
      "3 x 9 = 27\n",
      "4 x 1 = 4\n",
      "4 x 2 = 8\n",
      "4 x 3 = 12\n",
      "4 x 4 = 16\n",
      "4 x 5 = 20\n",
      "4 x 6 = 24\n",
      "4 x 7 = 28\n",
      "4 x 8 = 32\n",
      "4 x 9 = 36\n",
      "5 x 1 = 5\n",
      "5 x 2 = 10\n",
      "5 x 3 = 15\n",
      "5 x 4 = 20\n",
      "5 x 5 = 25\n",
      "5 x 6 = 30\n",
      "5 x 7 = 35\n",
      "5 x 8 = 40\n",
      "5 x 9 = 45\n",
      "6 x 1 = 6\n",
      "6 x 2 = 12\n",
      "6 x 3 = 18\n",
      "6 x 4 = 24\n",
      "6 x 5 = 30\n",
      "6 x 6 = 36\n",
      "6 x 7 = 42\n",
      "6 x 8 = 48\n",
      "6 x 9 = 54\n",
      "7 x 1 = 7\n",
      "7 x 2 = 14\n",
      "7 x 3 = 21\n",
      "7 x 4 = 28\n",
      "7 x 5 = 35\n",
      "7 x 6 = 42\n",
      "7 x 7 = 49\n",
      "7 x 8 = 56\n",
      "7 x 9 = 63\n",
      "8 x 1 = 8\n",
      "8 x 2 = 16\n",
      "8 x 3 = 24\n",
      "8 x 4 = 32\n",
      "8 x 5 = 40\n",
      "8 x 6 = 48\n",
      "8 x 7 = 56\n",
      "8 x 8 = 64\n",
      "8 x 9 = 72\n",
      "9 x 1 = 9\n",
      "9 x 2 = 18\n",
      "9 x 3 = 27\n",
      "9 x 4 = 36\n",
      "9 x 5 = 45\n",
      "9 x 6 = 54\n",
      "9 x 7 = 63\n",
      "9 x 8 = 72\n",
      "9 x 9 = 81\n"
     ]
    }
   ],
   "source": [
    "a = [2, 3, 4, 5, 6, 7, 8, 9] # 구구단\n",
    "b = [1, 2, 3, 4, 5, 6, 7, 8, 9]\n",
    "for i in a:\n",
    "    for j in b:\n",
    "        print(i, 'x', j, '=', i*j) "
   ]
  },
  {
   "cell_type": "code",
   "execution_count": null,
   "id": "2fcd3a2d-87d8-4ca9-8d4a-a423e20412cc",
   "metadata": {},
   "outputs": [],
   "source": []
  }
 ],
 "metadata": {
  "kernelspec": {
   "display_name": "Python 3 (ipykernel)",
   "language": "python",
   "name": "python3"
  },
  "language_info": {
   "codemirror_mode": {
    "name": "ipython",
    "version": 3
   },
   "file_extension": ".py",
   "mimetype": "text/x-python",
   "name": "python",
   "nbconvert_exporter": "python",
   "pygments_lexer": "ipython3",
   "version": "3.12.7"
  }
 },
 "nbformat": 4,
 "nbformat_minor": 5
}
